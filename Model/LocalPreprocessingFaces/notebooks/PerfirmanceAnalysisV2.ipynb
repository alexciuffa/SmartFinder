{
 "cells": [
  {
   "cell_type": "code",
   "execution_count": 1,
   "metadata": {},
   "outputs": [],
   "source": [
    "import numpy as np\n",
    "\n",
    "import tensorflow as tf\n",
    "\n",
    "from PIL import Image as Img\n",
    "import os\n",
    "\n",
    "import mtcnn\n",
    "\n",
    "from os import listdir, environ\n",
    "from os.path import isfile, join\n",
    "import time\n",
    "\n",
    "tf.compat.v1.logging.set_verbosity(tf.compat.v1.logging.ERROR)\n",
    "\n",
    "my_image_path = \"../../faces/\"\n",
    "dataset_image_path = \"../../../Dataset/data/lfw/\"\n",
    "database = r\"../../../Dataset/database/SmartFinder.db\""
   ]
  },
  {
   "cell_type": "markdown",
   "metadata": {},
   "source": [
    "## Load Model"
   ]
  },
  {
   "cell_type": "code",
   "execution_count": 2,
   "metadata": {},
   "outputs": [
    {
     "name": "stdout",
     "output_type": "stream",
     "text": [
      "== Input details ==\n",
      "shape: [  1 160 160   3]\n",
      "type: <class 'numpy.float32'>\n",
      "\n",
      "== Output details ==\n",
      "shape: [  1 512]\n",
      "type: <class 'numpy.float32'>\n"
     ]
    }
   ],
   "source": [
    "tf_lite_model = tf.lite.Interpreter(model_path='../../tflite/facenet.tflite')\n",
    "tf_lite_model.allocate_tensors()\n",
    "\n",
    "input_details = tf_lite_model.get_input_details()\n",
    "output_details = tf_lite_model.get_output_details()\n",
    "\n",
    "print(\"== Input details ==\")\n",
    "print(\"shape:\", input_details[0]['shape'])\n",
    "print(\"type:\", input_details[0]['dtype'])\n",
    "print(\"\\n== Output details ==\")\n",
    "print(\"shape:\", output_details[0]['shape'])\n",
    "print(\"type:\", output_details[0]['dtype'])"
   ]
  },
  {
   "cell_type": "code",
   "execution_count": 3,
   "metadata": {},
   "outputs": [],
   "source": [
    "def get_image_embedding(image_path, tf_lite_model):\n",
    "    # Open image\n",
    "    image = Img.open(image_path).convert('RGB')\n",
    "    pixels = np.asarray(image)\n",
    "    # detect faces in the image\n",
    "    detector = mtcnn.MTCNN()\n",
    "    results = detector.detect_faces(pixels)\n",
    "    # extract the bounding box from the first face\n",
    "    if len(results) != 1:\n",
    "        return np.array([])\n",
    "    x1, y1, width, height = results[0]['box']\n",
    "    x1, y1 = abs(x1), abs(y1)\n",
    "    x2, y2 = x1 + width, y1 + height\n",
    "    # extract the face\n",
    "    face = pixels[y1:y2, x1:x2]\n",
    "    # resize pixels to the model size\n",
    "    image = Img.fromarray(face)\n",
    "    image = image.resize((160, 160))\n",
    "    face_array = np.asarray(image)\n",
    "    face_array_norm = face_array /255\n",
    "    \n",
    "    input_details = tf_lite_model.get_input_details()\n",
    "    output_details = tf_lite_model.get_output_details()\n",
    "\n",
    "    tf_lite_model.set_tensor(input_details[0]['index'], face_array_norm.reshape(1,160,160,3).astype(np.float32))\n",
    "    tf_lite_model.invoke()\n",
    "\n",
    "    return tf_lite_model.get_tensor(output_details[0]['index'])"
   ]
  },
  {
   "cell_type": "markdown",
   "metadata": {},
   "source": [
    "## Load new embeddings"
   ]
  },
  {
   "cell_type": "code",
   "execution_count": 4,
   "metadata": {},
   "outputs": [],
   "source": [
    "class NewPerson():\n",
    "    def __init__(self, name, embedding):\n",
    "        self.name = name\n",
    "        self.embedding = embedding\n",
    "        \n",
    "    def set_id(self, _id):\n",
    "        self.id = _id"
   ]
  },
  {
   "cell_type": "code",
   "execution_count": 5,
   "metadata": {},
   "outputs": [
    {
     "name": "stdout",
     "output_type": "stream",
     "text": [
      "100: 20 fotos --- 0.55 minutes ---\n",
      "200: 33 fotos --- 0.87 minutes ---\n",
      "300: 58 fotos --- 1.44 minutes ---\n",
      "400: 89 fotos --- 2.22 minutes ---\n",
      "500: 104 fotos --- 2.59 minutes ---\n",
      "600: 130 fotos --- 3.23 minutes ---\n",
      "700: 143 fotos --- 3.56 minutes ---\n",
      "800: 164 fotos --- 4.07 minutes ---\n",
      "900: 187 fotos --- 4.69 minutes ---\n",
      "1000: 199 fotos --- 5.01 minutes ---\n",
      "1100: 224 fotos --- 5.68 minutes ---\n",
      "1200: 227 fotos --- 5.77 minutes ---\n",
      "1300: 246 fotos --- 6.24 minutes ---\n",
      "1400: 257 fotos --- 6.55 minutes ---\n",
      "1500: 274 fotos --- 7.03 minutes ---\n",
      "1600: 300 fotos --- 7.60 minutes ---\n",
      "1700: 320 fotos --- 8.19 minutes ---\n",
      "1800: 341 fotos --- 8.71 minutes ---\n",
      "1900: 361 fotos --- 9.25 minutes ---\n",
      "2000: 386 fotos --- 9.80 minutes ---\n",
      "2100: 407 fotos --- 10.38 minutes ---\n",
      "2200: 416 fotos --- 10.63 minutes ---\n",
      "2300: 423 fotos --- 10.91 minutes ---\n",
      "2400: 441 fotos --- 11.40 minutes ---\n",
      "2500: 475 fotos --- 12.27 minutes ---\n",
      "2600: 507 fotos --- 13.05 minutes ---\n",
      "2700: 541 fotos --- 13.87 minutes ---\n",
      "\n",
      "Total time: 14.17 minutes\n",
      "551 fotos novas\n"
     ]
    }
   ],
   "source": [
    "start_time = time.time()\n",
    "\n",
    "new_person_list = []\n",
    "\n",
    "count = 0\n",
    "for person_name in sorted(listdir(dataset_image_path))[:1300] + sorted(listdir(dataset_image_path))[4300:]:\n",
    "\n",
    "    for image_path in sorted(listdir(dataset_image_path+person_name))[3:6]:\n",
    "        embedding = get_image_embedding(dataset_image_path+person_name+'/'+image_path, tf_lite_model)\n",
    "        if embedding.shape == (1, 512):\n",
    "            person = NewPerson(person_name, embedding)\n",
    "            new_person_list.append(person)\n",
    "\n",
    "            #print(\"{} --- {:0.2f} minutes ---\".format(person_name, (time.time() - start_time)/60))\n",
    "            \n",
    "    count += 1\n",
    "    if count % 100 == 0:\n",
    "        print(\"{}: {} fotos --- {:0.2f} minutes ---\".format(count, len(new_person_list), (time.time() - start_time)/60))\n",
    "    \n",
    "print(\"\\nTotal time: {:0.2f} minutes\".format((time.time() - start_time)/60))\n",
    "\n",
    "new_embeddings = np.array([person.embedding for person in new_person_list])\n",
    "\n",
    "print(\"{} fotos novas\".format(new_embeddings.shape[0]))"
   ]
  },
  {
   "cell_type": "markdown",
   "metadata": {},
   "source": [
    "## Free memory"
   ]
  },
  {
   "cell_type": "code",
   "execution_count": 6,
   "metadata": {},
   "outputs": [],
   "source": [
    "del tf_lite_model\n",
    "del input_details\n",
    "del output_details\n",
    "del start_time\n",
    "del count"
   ]
  },
  {
   "cell_type": "code",
   "execution_count": 7,
   "metadata": {},
   "outputs": [
    {
     "data": {
      "text/plain": [
       "24740"
      ]
     },
     "execution_count": 7,
     "metadata": {},
     "output_type": "execute_result"
    }
   ],
   "source": [
    "import gc\n",
    "gc.collect()"
   ]
  },
  {
   "cell_type": "markdown",
   "metadata": {},
   "source": [
    "## Load Database"
   ]
  },
  {
   "cell_type": "code",
   "execution_count": 89,
   "metadata": {},
   "outputs": [],
   "source": [
    "match_distance = 0.8\n",
    "n_closer = 5\n",
    "chunck_size=15"
   ]
  },
  {
   "cell_type": "code",
   "execution_count": 90,
   "metadata": {},
   "outputs": [
    {
     "name": "stdout",
     "output_type": "stream",
     "text": [
      "verdadeiro_positivo | verdadeiro_negativo | falso_positivo |falso_negativo\n",
      "0100: 024 | 001 | 007 | 519\n",
      "0200: 035 | 004 | 012 | 500\n",
      "0300: 058 | 013 | 015 | 465\n",
      "0400: 077 | 018 | 019 | 437\n",
      "0500: 097 | 026 | 019 | 409\n",
      "0600: 110 | 029 | 022 | 390\n",
      "0700: 122 | 033 | 021 | 375\n",
      "0800: 144 | 036 | 022 | 349\n",
      "0900: 157 | 038 | 022 | 334\n",
      "1000: 180 | 041 | 021 | 309\n",
      "1100: 184 | 044 | 021 | 302\n",
      "1200: 195 | 047 | 022 | 287\n",
      "1300: 195 | 047 | 023 | 286\n",
      "1400: 195 | 047 | 024 | 285\n",
      "1500: 195 | 047 | 024 | 285\n",
      "1600: 195 | 047 | 024 | 285\n",
      "1700: 195 | 047 | 025 | 284\n",
      "1800: 195 | 047 | 025 | 284\n",
      "1900: 195 | 047 | 027 | 282\n",
      "2000: 195 | 047 | 029 | 280\n",
      "2100: 195 | 047 | 029 | 280\n",
      "2200: 195 | 047 | 029 | 280\n",
      "2300: 195 | 047 | 029 | 280\n",
      "2400: 195 | 047 | 032 | 277\n",
      "2500: 195 | 047 | 032 | 277\n",
      "2600: 195 | 047 | 035 | 274\n",
      "2700: 195 | 047 | 035 | 274\n",
      "2800: 195 | 047 | 037 | 272\n",
      "2900: 195 | 047 | 037 | 272\n",
      "3000: 195 | 047 | 040 | 269\n",
      "3100: 195 | 047 | 041 | 268\n",
      "3200: 195 | 047 | 041 | 268\n",
      "3300: 195 | 047 | 042 | 267\n",
      "3400: 195 | 047 | 044 | 265\n",
      "3500: 195 | 047 | 046 | 263\n",
      "3600: 195 | 047 | 046 | 263\n",
      "3700: 195 | 047 | 048 | 261\n",
      "3800: 195 | 047 | 048 | 261\n",
      "3900: 206 | 047 | 047 | 251\n",
      "4000: 212 | 057 | 046 | 236\n",
      "4100: 237 | 061 | 042 | 211\n",
      "4200: 258 | 062 | 045 | 186\n",
      "4300: 274 | 067 | 044 | 166\n",
      "4400: 296 | 071 | 039 | 145\n",
      "4500: 317 | 079 | 037 | 118\n",
      "4600: 320 | 085 | 035 | 111\n",
      "4700: 327 | 087 | 031 | 106\n",
      "4800: 341 | 091 | 027 | 092\n",
      "4900: 370 | 098 | 018 | 065\n",
      "5000: 402 | 103 | 013 | 033\n",
      "5100: 432 | 105 | 004 | 010\n"
     ]
    }
   ],
   "source": [
    "import time\n",
    "from flask import Flask, request, jsonify\n",
    "from flask_sqlalchemy import SQLAlchemy\n",
    "from datetime import datetime, timedelta\n",
    "#from flask_cors import CORS\n",
    "\n",
    "print('verdadeiro_positivo | verdadeiro_negativo | falso_positivo |falso_negativo')\n",
    "\n",
    "positivo = []\n",
    "falso = []\n",
    "num_pessoas = []\n",
    "total = []\n",
    "\n",
    "for db_size in range(100, 5200, 100):\n",
    "    \n",
    "    gc.collect()\n",
    "\n",
    "    app = Flask(__name__)\n",
    "    app.config['SQLALCHEMY_DATABASE_URI'] = 'sqlite:///../../../Dataset/database/SmartFinder_{}.db'.format(db_size) #'sqlite:///test.db'\n",
    "    app.config['SQLALCHEMY_TRACK_MODIFICATIONS'] = False\n",
    "    db = SQLAlchemy(app)\n",
    "\n",
    "    #cors = CORS(app, resources={r\"/*\": {\"origins\": \"*\"}})\n",
    "\n",
    "          #############\n",
    "    ########  Utils  ########\n",
    "          #############\n",
    "\n",
    "    import numpy as np\n",
    "    def get_distance(embedding_1, embedding_2):\n",
    "        return np.linalg.norm(np.array(eval(embedding_1)) - np.array(eval(embedding_2)))\n",
    "\n",
    "    def is_new_match(json_match, new_name):\n",
    "        for match in json_match:\n",
    "            if match['person_name'] == new_name:\n",
    "                return False\n",
    "        return True\n",
    "\n",
    "          #############\n",
    "    ########  Models ########\n",
    "          #############\n",
    "\n",
    "    class Person(db.Model):\n",
    "        id = db.Column(db.Integer, primary_key=True, autoincrement=True)\n",
    "        name = db.Column(db.String(200), nullable=False)\n",
    "        birthday = db.Column(db.DateTime, nullable=False)\n",
    "        status = db.Column(db.String(200), nullable=False)\n",
    "        created_at = db.Column(db.DateTime, nullable=True)\n",
    "        updated_at = db.Column(db.DateTime, nullable=True)\n",
    "        images = db.relationship('Image', uselist=True, backref='person')\n",
    "        matches = db.relationship('Match', uselist=True, backref='person')\n",
    "\n",
    "    class Image(db.Model):\n",
    "        id = db.Column(db.Integer, primary_key=True, autoincrement=True)\n",
    "        person_id = db.Column(db.Integer, db.ForeignKey('person.id'), nullable=True)\n",
    "        path = db.Column(db.String(200), nullable=False)\n",
    "        embedding = db.Column(db.String(500), nullable=False)\n",
    "        created_at = db.Column(db.DateTime, nullable=True)\n",
    "        matches = db.relationship('Match', uselist=True, backref='image')\n",
    "\n",
    "    class Request(db.Model):\n",
    "        id = db.Column(db.Integer, primary_key=True, autoincrement=True)\n",
    "        lat = db.Column(db.Integer, nullable=False)\n",
    "        long = db.Column(db.Integer, nullable=False)\n",
    "        embedding = db.Column(db.String(500), nullable=False)\n",
    "        created_at = db.Column(db.DateTime, nullable=True)\n",
    "        matches = db.relationship('Match', uselist=True, backref='request')\n",
    "\n",
    "    class Match(db.Model):\n",
    "        id = db.Column(db.Integer, primary_key=True, autoincrement=True)\n",
    "        request_id = db.Column(db.Integer, db.ForeignKey('request.id'), nullable=True)\n",
    "        image_id = db.Column(db.Integer, db.ForeignKey('image.id'), nullable=True)\n",
    "        person_id = db.Column(db.Integer, db.ForeignKey('person.id'), nullable=True)\n",
    "        distance = db.Column(db.Float, nullable=True)\n",
    "\n",
    "    image_list = Image.query.all()\n",
    "    db_embeddings = np.array([eval(image.embedding) for image in image_list])\n",
    "\n",
    "    person_list = Person.query.all()\n",
    "    person_ids = np.array([person.id for person in person_list])\n",
    "    person_names = np.array([person.name for person in person_list])\n",
    "\n",
    "    #print(\"Pessoas na base: \", len(person_ids))\n",
    "\n",
    "    verdadeiro_positivo = 0\n",
    "    verdadeiro_negativo = 0\n",
    "    falso_positivo = 0\n",
    "    falso_negativo = 0\n",
    "\n",
    "    for chunck_low, chunck_high in zip(range(0, len(new_person_list), chunck_size), range(chunck_size, len(new_person_list)+chunck_size, chunck_size)):\n",
    "        distances = np.linalg.norm(new_embeddings[chunck_low:chunck_high, None, :] - db_embeddings[None, :, :], axis=-1)\n",
    "\n",
    "        for person, i in zip(new_person_list[chunck_low:chunck_high], range(0,len(distances))):\n",
    "            if person.name in person_names:\n",
    "                # Está no banco de dados e ...\n",
    "                encontrou = False\n",
    "                for person_id in [image_list[index].person_id for index in np.intersect1d(np.where(distances[i]<match_distance)[0], np.argpartition(distances[i].reshape(1, distances[i].shape[0])[0], n_closer)[:n_closer])]:\n",
    "                    if person.name == Person.query.filter(Person.id == person_id).first().name:\n",
    "                        # encontrou\n",
    "                        encontrou = True\n",
    "                        verdadeiro_positivo += 1\n",
    "                        break;\n",
    "                        #print(\"VP: \", person.name)\n",
    "                if encontrou == False:\n",
    "                    # não encontrou\n",
    "                    verdadeiro_negativo += 1\n",
    "                    #print(\"VN: \", person.name)\n",
    "\n",
    "            else:\n",
    "                # Não está no banco de dados e ...\n",
    "                if len(np.where(distances[i]<match_distance)[0]) > 0:\n",
    "                    # encontrou alguém\n",
    "                    falso_positivo += 1\n",
    "                    #print(\"FP: \", person.name)\n",
    "                else:\n",
    "                    # não encontrou\n",
    "                    falso_negativo += 1\n",
    "                    #print(\"FN: \", person.name)\n",
    "\n",
    "    #print(\"verdadeiro_positivo: \", verdadeiro_positivo)\n",
    "    #print(\"verdadeiro_negativo: \", verdadeiro_negativo)\n",
    "    #print(\"falso_positivo: \", falso_positivo)\n",
    "    #print(\"falso_negativo: \", falso_negativo)\n",
    "    #print()\n",
    "    \n",
    "    print(\"{:04}: {:03} | {:03} | {:03} | {:03}\".format(len(person_ids), \n",
    "                                                        verdadeiro_positivo, \n",
    "                                                        verdadeiro_negativo, \n",
    "                                                        falso_positivo, \n",
    "                                                        falso_negativo\n",
    "                                                        ))\n",
    "    \n",
    "    positivo.append( verdadeiro_positivo/(verdadeiro_positivo+verdadeiro_negativo) )\n",
    "    falso.append( falso_negativo/(falso_positivo+falso_negativo) )\n",
    "    total.append( (verdadeiro_positivo+falso_negativo)/(verdadeiro_positivo+verdadeiro_negativo+falso_positivo+falso_negativo) )\n",
    "    num_pessoas.append(len(person_ids))"
   ]
  },
  {
   "cell_type": "code",
   "execution_count": null,
   "metadata": {},
   "outputs": [],
   "source": []
  },
  {
   "cell_type": "code",
   "execution_count": 11,
   "metadata": {},
   "outputs": [],
   "source": [
    "import matplotlib.pyplot as plt"
   ]
  },
  {
   "cell_type": "code",
   "execution_count": 91,
   "metadata": {},
   "outputs": [
    {
     "data": {
      "image/png": "[encoded data removed]",
      "text/plain": [
       "<Figure size 720x504 with 1 Axes>"
      ]
     },
     "metadata": {
      "needs_background": "light"
     },
     "output_type": "display_data"
    }
   ],
   "source": [
    "plt.figure(figsize=(10,7))\n",
    "\n",
    "plt.plot(num_pessoas, positivo, label='acc person in db')\n",
    "plt.plot(num_pessoas, falso, label='acc person NOT in db')\n",
    "plt.plot(num_pessoas, total, label='acc total')\n",
    "\n",
    "plt.title('Sacability of SmartFinder model (FaceNet)')\n",
    "plt.ylabel('Acc')\n",
    "plt.xlabel('db size')\n",
    "plt.legend(loc=\"upper right\")\n",
    "\n",
    "plt.show()"
   ]
  },
  {
   "cell_type": "code",
   "execution_count": null,
   "metadata": {},
   "outputs": [],
   "source": []
  }
 ],
 "metadata": {
  "kernelspec": {
   "display_name": "Python 3",
   "language": "python",
   "name": "python3"
  },
  "language_info": {
   "codemirror_mode": {
    "name": "ipython",
    "version": 3
   },
   "file_extension": ".py",
   "mimetype": "text/x-python",
   "name": "python",
   "nbconvert_exporter": "python",
   "pygments_lexer": "ipython3",
   "version": "3.7.9"
  }
 },
 "nbformat": 4,
 "nbformat_minor": 4
}

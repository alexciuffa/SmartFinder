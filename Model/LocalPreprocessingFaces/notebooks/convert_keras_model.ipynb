{
 "cells": [
  {
   "cell_type": "code",
   "execution_count": 1,
   "metadata": {},
   "outputs": [],
   "source": [
    "import tensorflow as tf\n",
    "from tensorflow import keras\n",
    "import numpy as np\n",
    "import matplotlib.pyplot as plt\n",
    "\n",
    "saved_model_dir = \"./saved_model/\""
   ]
  },
  {
   "cell_type": "code",
   "execution_count": 2,
   "metadata": {},
   "outputs": [
    {
     "name": "stdout",
     "output_type": "stream",
     "text": [
      "WARNING:tensorflow:No training configuration found in the save file, so the model was *not* compiled. Compile it manually.\n",
      "WARNING:tensorflow:From /home/alex/Documents/AI_Br_Holding/PnD/Android_App/TF_model/venvs/tf_2/lib/python3.7/site-packages/tensorflow/python/training/tracking/tracking.py:111: Model.state_updates (from tensorflow.python.keras.engine.training) is deprecated and will be removed in a future version.\n",
      "Instructions for updating:\n",
      "This property should not be used in TensorFlow 2.0, as updates are applied automatically.\n",
      "WARNING:tensorflow:From /home/alex/Documents/AI_Br_Holding/PnD/Android_App/TF_model/venvs/tf_2/lib/python3.7/site-packages/tensorflow/python/training/tracking/tracking.py:111: Layer.updates (from tensorflow.python.keras.engine.base_layer) is deprecated and will be removed in a future version.\n",
      "Instructions for updating:\n",
      "This property should not be used in TensorFlow 2.0, as updates are applied automatically.\n",
      "INFO:tensorflow:Assets written to: /tmp/tmpwdpxnuac/assets\n"
     ]
    }
   ],
   "source": [
    "# Converting a tf.Keras model to a TensorFlow Lite model.\n",
    "keras_model = tf.keras.models.load_model(saved_model_dir+'facenet_keras.h5', compile=False)\n",
    "converter = tf.lite.TFLiteConverter.from_keras_model(keras_model)\n",
    "tflite_model = converter.convert()\n",
    "\n",
    "# Save the model.\n",
    "with open('facenet.tflite', 'wb') as file:\n",
    "  file.write(tflite_model)"
   ]
  },
  {
   "cell_type": "code",
   "execution_count": 4,
   "metadata": {},
   "outputs": [
    {
     "name": "stdout",
     "output_type": "stream",
     "text": [
      "[[-3.92898470e-01 -6.57236218e-01 -3.35508376e-01 -5.38291395e-01\n",
      "  -1.67686909e-01  1.86656117e-01 -3.82616639e-01 -5.62626868e-04\n",
      "  -2.14663178e-01  5.94414830e-01 -4.29800302e-01  3.60505462e-01\n",
      "   1.01115465e+00 -6.61236167e-01  4.32793885e-01 -6.53883994e-01\n",
      "   3.23446959e-01  4.41951528e-02  3.55831385e-01 -2.25054100e-04\n",
      "  -1.58595055e-01  1.05735533e-01  1.14466541e-01  5.43542922e-01\n",
      "   6.62883282e-01 -1.09265037e-01  7.46494055e-01 -6.86577708e-03\n",
      "  -1.80639639e-01 -7.97000706e-01 -2.95560300e-01  2.72145092e-01\n",
      "  -7.42297098e-02 -6.28643855e-02  3.37783337e-01  8.00119400e-01\n",
      "  -6.02479041e-01 -2.94645846e-01  2.73179710e-02 -1.75087303e-01\n",
      "   3.24266016e-01  6.21791303e-01  1.87845767e-01  4.49645936e-01\n",
      "   6.41630471e-01 -7.03526378e-01 -1.00695223e-01 -5.90012908e-01\n",
      "   1.05592206e-01 -4.43222612e-01 -1.90821612e+00 -1.78926475e-02\n",
      "  -6.34316683e-01  1.34840518e-01 -4.76245970e-01 -1.23143166e-01\n",
      "   6.37370527e-01 -1.73819110e-01 -4.02606398e-01 -1.41970408e+00\n",
      "   2.71628261e-01  6.32461458e-02 -5.29055238e-01  1.02221817e-01\n",
      "  -4.70219254e-02  5.67959845e-01  2.77319252e-01 -2.94561654e-01\n",
      "  -3.63553792e-01 -2.84740478e-01 -1.66695744e-01  4.37803239e-01\n",
      "   3.06777626e-01  2.99299434e-02  1.00176227e+00 -1.11014342e+00\n",
      "  -6.19418502e-01 -5.11147380e-01  1.74704909e-01  4.89641786e-01\n",
      "   5.76680720e-01  1.71772733e-01 -7.66963363e-01  1.76689193e-01\n",
      "   7.55661547e-01  5.48058987e-01  2.86929011e-01 -1.10769421e-02\n",
      "  -9.78968024e-01  1.08970046e+00  2.14258701e-01  4.46466774e-01\n",
      "  -7.43066370e-01 -1.18929334e-01  6.82742819e-02  7.25492477e-01\n",
      "  -6.16652369e-01  9.51607153e-02 -2.98305988e-01 -6.52395710e-02\n",
      "  -3.10725629e-01 -3.50780711e-02 -3.22558731e-03 -6.34908974e-01\n",
      "   4.07594115e-01 -2.08819062e-02 -3.01686436e-01 -1.10009402e-01\n",
      "   4.93844748e-01 -8.00332248e-01  1.25151217e-01 -2.11100802e-01\n",
      "   3.76657158e-01  7.23462224e-01 -2.23360676e-02  5.93963265e-01\n",
      "  -4.93275672e-01 -8.17680359e-02  1.07187307e+00  9.69989479e-01\n",
      "   1.80153877e-01 -2.81313449e-01 -2.15738729e-01  3.67684290e-04\n",
      "   4.85801041e-01 -6.00578010e-01  1.15656137e+00 -5.05426563e-02]]\n"
     ]
    }
   ],
   "source": [
    "# Test model on random input data.\n",
    "input_shape = input_details[0]['shape']\n",
    "input_data = np.array(np.random.random_sample(input_shape), dtype=np.float32)\n",
    "interpreter.set_tensor(input_details[0]['index'], input_data)\n",
    "\n",
    "interpreter.invoke()\n",
    "\n",
    "# The function `get_tensor()` returns a copy of the tensor data.\n",
    "# Use `tensor()` in order to get a pointer to the tensor.\n",
    "output_data = interpreter.get_tensor(output_details[0]['index'])\n",
    "print(output_data)"
   ]
  },
  {
   "cell_type": "code",
   "execution_count": null,
   "metadata": {},
   "outputs": [],
   "source": []
  }
 ],
 "metadata": {
  "kernelspec": {
   "display_name": "Python 3",
   "language": "python",
   "name": "python3"
  },
  "language_info": {
   "codemirror_mode": {
    "name": "ipython",
    "version": 3
   },
   "file_extension": ".py",
   "mimetype": "text/x-python",
   "name": "python",
   "nbconvert_exporter": "python",
   "pygments_lexer": "ipython3",
   "version": "3.7.9"
  }
 },
 "nbformat": 4,
 "nbformat_minor": 4
}

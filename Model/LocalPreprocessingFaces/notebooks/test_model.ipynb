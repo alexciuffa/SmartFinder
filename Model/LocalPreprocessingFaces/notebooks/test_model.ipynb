{
 "cells": [
  {
   "cell_type": "code",
   "execution_count": 2,
   "metadata": {},
   "outputs": [],
   "source": [
    "import tensorflow as tf\n",
    "from tensorflow import keras\n",
    "import numpy as np\n",
    "import matplotlib.pyplot as plt"
   ]
  },
  {
   "cell_type": "markdown",
   "metadata": {},
   "source": [
    "## Test \"Image\""
   ]
  },
  {
   "cell_type": "code",
   "execution_count": 3,
   "metadata": {},
   "outputs": [],
   "source": [
    "input_shape = np.array([1, 160, 160, 3])\n",
    "image = np.random.random_sample(input_shape)"
   ]
  },
  {
   "cell_type": "markdown",
   "metadata": {},
   "source": [
    "## Original Model"
   ]
  },
  {
   "cell_type": "code",
   "execution_count": 33,
   "metadata": {},
   "outputs": [
    {
     "name": "stdout",
     "output_type": "stream",
     "text": [
      "== Input details ==\n",
      "shape: (None, 160, 160, 3)\n",
      "type: <dtype: 'float32'>\n",
      "\n",
      "== Output details ==\n",
      "shape: (None, 128)\n",
      "type: <dtype: 'float32'>\n"
     ]
    }
   ],
   "source": [
    "original_model = tf.keras.models.load_model(\"./saved_model/\"+'facenet_keras.h5', compile=False)\n",
    "\n",
    "print(\"== Input details ==\")\n",
    "print(\"shape:\", original_model.input.shape)\n",
    "print(\"type:\", original_model.input.dtype)\n",
    "print(\"\\n== Output details ==\")\n",
    "print(\"shape:\", original_model.output.shape)\n",
    "print(\"type:\", original_model.output.dtype)"
   ]
  },
  {
   "cell_type": "code",
   "execution_count": 15,
   "metadata": {},
   "outputs": [],
   "source": [
    "original_model_output = original_model.predict(image)[0]"
   ]
  },
  {
   "cell_type": "markdown",
   "metadata": {},
   "source": [
    "## TFLite converted Model"
   ]
  },
  {
   "cell_type": "code",
   "execution_count": 8,
   "metadata": {},
   "outputs": [
    {
     "name": "stdout",
     "output_type": "stream",
     "text": [
      "== Input details ==\n",
      "shape: [  1 160 160   3]\n",
      "type: <class 'numpy.float32'>\n",
      "\n",
      "== Output details ==\n",
      "shape: [  1 128]\n",
      "type: <class 'numpy.float32'>\n"
     ]
    }
   ],
   "source": [
    "tf_lite_model = tf.lite.Interpreter(model_path='./facenet.tflite')\n",
    "tf_lite_model.allocate_tensors()\n",
    "\n",
    "input_details = tf_lite_model.get_input_details()\n",
    "output_details = tf_lite_model.get_output_details()\n",
    "\n",
    "print(\"== Input details ==\")\n",
    "print(\"shape:\", input_details[0]['shape'])\n",
    "print(\"type:\", input_details[0]['dtype'])\n",
    "print(\"\\n== Output details ==\")\n",
    "print(\"shape:\", output_details[0]['shape'])\n",
    "print(\"type:\", output_details[0]['dtype'])"
   ]
  },
  {
   "cell_type": "code",
   "execution_count": 13,
   "metadata": {},
   "outputs": [],
   "source": [
    "# Test model on random input data.\n",
    "input_shape = input_details[0]['shape']\n",
    "input_data = np.array(image, dtype=np.float32)\n",
    "tf_lite_model.set_tensor(input_details[0]['index'], input_data)\n",
    "\n",
    "tf_lite_model.invoke()\n",
    "\n",
    "# The function `get_tensor()` returns a copy of the tensor data.\n",
    "# Use `tensor()` in order to get a pointer to the tensor.\n",
    "tf_lite_model_output = tf_lite_model.get_tensor(output_details[0]['index'])"
   ]
  },
  {
   "cell_type": "code",
   "execution_count": null,
   "metadata": {},
   "outputs": [],
   "source": []
  },
  {
   "cell_type": "code",
   "execution_count": 19,
   "metadata": {},
   "outputs": [
    {
     "data": {
      "text/plain": [
       "1.9185245e-07"
      ]
     },
     "execution_count": 19,
     "metadata": {},
     "output_type": "execute_result"
    }
   ],
   "source": [
    "(original_model_output - tf_lite_model_output).sum()"
   ]
  },
  {
   "cell_type": "code",
   "execution_count": null,
   "metadata": {},
   "outputs": [],
   "source": []
  }
 ],
 "metadata": {
  "kernelspec": {
   "display_name": "Python 3",
   "language": "python",
   "name": "python3"
  },
  "language_info": {
   "codemirror_mode": {
    "name": "ipython",
    "version": 3
   },
   "file_extension": ".py",
   "mimetype": "text/x-python",
   "name": "python",
   "nbconvert_exporter": "python",
   "pygments_lexer": "ipython3",
   "version": "3.7.9"
  }
 },
 "nbformat": 4,
 "nbformat_minor": 4
}
